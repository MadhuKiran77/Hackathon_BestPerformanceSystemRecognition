{
 "cells": [
  {
   "cell_type": "code",
   "execution_count": 11,
   "metadata": {},
   "outputs": [
    {
     "name": "stdout",
     "output_type": "stream",
     "text": [
      "    Batch  Student ID           Name  GPA  Predicted Score\n",
      "0    2019          70   Ursula Young  3.9          3.00333\n",
      "1    2019           7   Grace Wilson  3.9          3.00094\n",
      "2    2019          64  Olivia Taylor  3.9          3.00003\n",
      "3    2020          16   Quinn Thomas  3.9          3.00546\n",
      "4    2020          72    Wendy Allen  3.9          3.00282\n",
      "5    2020          79     Dave Brown  3.9          3.00003\n",
      "6    2021          22    Wendy Allen  3.9          3.00282\n",
      "7    2021          29     Dave Brown  3.9          3.00003\n",
      "8    2021          21   Vincent Hall  3.8          2.92403\n",
      "9    2022          34   Ivy Martinez  3.9          2.99778\n",
      "10   2022          40  Paul Anderson  3.9          2.99234\n",
      "11   2022          38     Noah Lopez  3.8          2.92400\n",
      "12   2023          50  Zachary Scott  3.9          3.00075\n",
      "13   2023          45   Ursula Young  3.9          3.00003\n",
      "14   2023          44    Tina Harris  3.8          2.92400\n",
      "15   2024          52      Bob Smith  3.9          3.00003\n",
      "16   2024          57   Grace Wilson  3.9          2.99009\n",
      "17   2024          56   Frank Miller  3.8          2.92403\n"
     ]
    },
    {
     "name": "stderr",
     "output_type": "stream",
     "text": [
      "C:\\Users\\madhu\\AppData\\Local\\Temp\\ipykernel_11376\\2489081209.py:32: DeprecationWarning: DataFrameGroupBy.apply operated on the grouping columns. This behavior is deprecated, and in a future version of pandas the grouping columns will be excluded from the operation. Either pass `include_groups=False` to exclude the groupings or explicitly select the grouping columns after groupby to silence this warning.\n",
      "  top_students = df.groupby('Batch').apply(lambda x: x.nlargest(3, 'Predicted Score')).reset_index(drop=True)\n"
     ]
    }
   ],
   "source": [
    "import pandas as pd\n",
    "from sklearn.model_selection import train_test_split\n",
    "from sklearn.ensemble import RandomForestRegressor\n",
    "from sklearn.metrics import mean_squared_error\n",
    "\n",
    "# Step 1: Fetch the data from the URL\n",
    "url = \"C:\\\\Users\\\\madhu\\\\Downloads\\\\chatgptext (1).csv\" # Replace with the actual URL to the dataset\n",
    "df = pd.read_csv(url)\n",
    "\n",
    "# Step 2: Data Preparation\n",
    "# Create a target variable as a combination of GPA and Core Course Performance\n",
    "df['Composite Score'] = df['GPA'] * 0.7 + df['Core Course Performance'] / 100 * 0.3\n",
    "\n",
    "# Step 3: Feature Selection\n",
    "# Select relevant features\n",
    "X = df[['GPA', 'Core Course Performance', 'Hackathon Participation', 'Hackathon Wins', 'Paper Presentations']]\n",
    "y = df['Composite Score']\n",
    "\n",
    "# Step 4: Train-test split\n",
    "X_train, X_test, y_train, y_test = train_test_split(X, y, test_size=0.2, random_state=42)\n",
    "\n",
    "# Step 5: Initialize the model\n",
    "model = RandomForestRegressor(n_estimators=100, random_state=42)\n",
    "\n",
    "# Step 6: Train the model\n",
    "model.fit(X_train, y_train)\n",
    "\n",
    "# Predict composite scores\n",
    "df['Predicted Score'] = model.predict(X)\n",
    "\n",
    "# Step 7: Get top 3 students for each batch\n",
    "top_students = df.groupby('Batch').apply(lambda x: x.nlargest(3, 'Predicted Score')).reset_index(drop=True)\n",
    "\n",
    "# Display the top 3 students for each batch\n",
    "print(top_students[['Batch', 'Student ID', 'Name', 'GPA', 'Predicted Score']])\n"
   ]
  }
 ],
 "metadata": {
  "kernelspec": {
   "display_name": "Python 3",
   "language": "python",
   "name": "python3"
  },
  "language_info": {
   "codemirror_mode": {
    "name": "ipython",
    "version": 3
   },
   "file_extension": ".py",
   "mimetype": "text/x-python",
   "name": "python",
   "nbconvert_exporter": "python",
   "pygments_lexer": "ipython3",
   "version": "3.10.11"
  }
 },
 "nbformat": 4,
 "nbformat_minor": 2
}
